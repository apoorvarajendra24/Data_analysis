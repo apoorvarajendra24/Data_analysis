{
 "cells": [
  {
   "cell_type": "code",
   "execution_count": 2,
   "metadata": {},
   "outputs": [
    {
     "name": "stdout",
     "output_type": "stream",
     "text": [
      "[1 2 3 4 5 6]\n",
      "<class 'numpy.ndarray'>\n"
     ]
    }
   ],
   "source": [
    "# Numpy library\n",
    "import numpy as np\n",
    "# Creating a 1D array\n",
    "array = np.array([1,2,3,4,5,6])\n",
    "print(array)\n",
    "print(type(array))"
   ]
  },
  {
   "cell_type": "code",
   "execution_count": 16,
   "metadata": {},
   "outputs": [
    {
     "name": "stdout",
     "output_type": "stream",
     "text": [
      "1D array:  (2, 6)\n",
      "Error: unable to reshape array of size 12 to specified shape\n",
      "no. of elements must be equal before and after reshaping of the array\n",
      "[[1 2 3 4]\n",
      " [5 6 1 2]\n",
      " [4 3 5 6]]\n"
     ]
    }
   ],
   "source": [
    "# Creating a 2D array\n",
    "arr2 = np.array([[1,2,3,4,5,6],[1,2,4,3,5,6]])\n",
    "print(\"1D array: \",arr2.shape)       # tells the dimensions/shape of the array\n",
    "try:\n",
    "    print(\"2D array: \",arr2.reshape(1,6))       # reshape the dimension of array\n",
    "except ValueError:\n",
    "    print(\"Error: unable to reshape array of size 12 to specified shape\")\n",
    "    print(\"no. of elements must be equal before and after reshaping of the array\")\n",
    "\n",
    "print(arr2.reshape(3,4))    # 3x4=12 elements\n"
   ]
  },
  {
   "cell_type": "code",
   "execution_count": 19,
   "metadata": {},
   "outputs": [
    {
     "name": "stdout",
     "output_type": "stream",
     "text": [
      "[0 2 4 6 8]\n",
      "[[0]\n",
      " [2]\n",
      " [4]\n",
      " [6]\n",
      " [8]]\n"
     ]
    }
   ],
   "source": [
    "# creating array with inbuilt functions\n",
    "# arange() - Generates an array with evenly spaced values within a specified range.\n",
    "arr1 = np.arange(0,10,2)           # array with values between 0 and 10 step of 2\n",
    "print(arr1)\n",
    "print(arr1.reshape(5,1))"
   ]
  },
  {
   "cell_type": "code",
   "execution_count": 22,
   "metadata": {},
   "outputs": [
    {
     "name": "stdout",
     "output_type": "stream",
     "text": [
      "[[1. 1. 1.]\n",
      " [1. 1. 1.]]\n",
      "[[0. 0. 0. 0.]\n",
      " [0. 0. 0. 0.]\n",
      " [0. 0. 0. 0.]]\n"
     ]
    }
   ],
   "source": [
    "# creating an array with all elements as ones and zeros\n",
    "\n",
    "arr1 = np.ones((2,3))     # 2x3 matrix with all elements as 1\n",
    "print(arr1)\n",
    "\n",
    "arr2 = np.zeros((3,4))    # 3x4 matrix with all elements as 0\n",
    "print(arr2)"
   ]
  },
  {
   "cell_type": "code",
   "execution_count": 28,
   "metadata": {},
   "outputs": [
    {
     "data": {
      "text/plain": [
       "array([[1., 0., 0.],\n",
       "       [0., 1., 0.],\n",
       "       [0., 0., 1.]])"
      ]
     },
     "execution_count": 28,
     "metadata": {},
     "output_type": "execute_result"
    }
   ],
   "source": [
    "# creating an identity matrix\n",
    "np.eye(3)             #creates an identity matrix, which is a square matrix with 1s on the main diagonal and 0s elsewhere.\n"
   ]
  },
  {
   "cell_type": "code",
   "execution_count": 35,
   "metadata": {},
   "outputs": [
    {
     "name": "stdout",
     "output_type": "stream",
     "text": [
      "[[1 2]\n",
      " [3 4]]\n",
      "4\n",
      "int64\n",
      "8\n",
      "[[1 2 3 4]]\n"
     ]
    }
   ],
   "source": [
    "arr1 = np.array([[1,2],[3,4]])\n",
    "\n",
    "print(arr1)\n",
    "print(arr1.size)     # total no. of elements\n",
    "print(arr1.dtype)    # type of array elements\n",
    "print(arr1.itemsize) # size of elements in bytes\n",
    "print(arr1.reshape(1,4))    # reshaping array (temprary)"
   ]
  },
  {
   "cell_type": "code",
   "execution_count": 37,
   "metadata": {},
   "outputs": [
    {
     "name": "stdout",
     "output_type": "stream",
     "text": [
      "[11 22 33 44 55]\n",
      "[ -9 -18 -27 -36 -45]\n",
      "[ 10  40  90 160 250]\n",
      "[0.1 0.1 0.1 0.1 0.1]\n"
     ]
    }
   ],
   "source": [
    "# numpy Vectorized operations\n",
    "# add, sub, mul, div 2 arrays\n",
    "\n",
    "arr1 = np.array([1,2,3,4,5])\n",
    "arr2 = np.array([10,20,30,40,50])\n",
    "\n",
    "print(arr1 + arr2)\n",
    "print(arr1 - arr2)\n",
    "print(arr1 * arr2)\n",
    "print(arr1 / arr2)"
   ]
  },
  {
   "cell_type": "code",
   "execution_count": 39,
   "metadata": {},
   "outputs": [
    {
     "name": "stdout",
     "output_type": "stream",
     "text": [
      "[3.16227766 4.47213595 5.47722558 6.32455532 7.07106781]\n",
      "[2.20264658e+04 4.85165195e+08 1.06864746e+13 2.35385267e+17\n",
      " 5.18470553e+21]\n",
      "[2.30258509 2.99573227 3.40119738 3.68887945 3.91202301]\n",
      "[-0.54402111  0.91294525 -0.98803162  0.74511316 -0.26237485]\n",
      "[-0.83907153  0.40808206  0.15425145 -0.66693806  0.96496603]\n"
     ]
    }
   ],
   "source": [
    "# univarsal functions - applied to all the elements in the array\n",
    "# mathematical functions \n",
    "\n",
    "print(np.sqrt(arr2))     # squareroot of elements\n",
    "print(np.exp(arr2))      # exponential of elements\n",
    "print(np.log(arr2))       # natural logarithm of elements\n",
    "print(np.sin(arr2))       # sine of elements\n",
    "print(np.cos(arr2))       # cosine of elements \n",
    "\n",
    "# many more functions.............."
   ]
  },
  {
   "cell_type": "code",
   "execution_count": 48,
   "metadata": {},
   "outputs": [
    {
     "name": "stdout",
     "output_type": "stream",
     "text": [
      "Array : \n",
      " [[ 1  2  3  4]\n",
      " [ 5  6  7  8]\n",
      " [ 9 10 11 12]]\n",
      "first row: \n",
      " [1 2 3 4]\n",
      "first 2 rows: \n",
      " [[1 2 3 4]\n",
      " [5 6 7 8]]\n"
     ]
    }
   ],
   "source": [
    "# array slicing\n",
    "\n",
    "arr1 = np.array([[1,2,3,4],[5,6,7,8],[9,10,11,12]])\n",
    "print(\"Array : \\n\", arr1)\n",
    "\n",
    "# extracting a row\n",
    "print(\"first row: \\n\",arr1[0,:])     # extracting the row at 0th index\n",
    "print(\"first 2 rows: \\n\",arr1[0:2,:])   # extracting the first 2 rows"
   ]
  },
  {
   "cell_type": "code",
   "execution_count": 49,
   "metadata": {},
   "outputs": [
    {
     "name": "stdout",
     "output_type": "stream",
     "text": [
      "last column: \n",
      " [ 4  8 12]\n"
     ]
    }
   ],
   "source": [
    "# extracting a column\n",
    "print(\"last column: \\n\",arr1[:,-1])       #extracting the column at last"
   ]
  },
  {
   "cell_type": "code",
   "execution_count": 69,
   "metadata": {},
   "outputs": [
    {
     "name": "stdout",
     "output_type": "stream",
     "text": [
      "subarray is :\n",
      " [[ 5  6]\n",
      " [ 9 10]]\n",
      "subarray is :\n",
      " [[3 4]\n",
      " [7 8]]\n",
      "subarray is :\n",
      " [[ 6  7]\n",
      " [10 11]]\n"
     ]
    }
   ],
   "source": [
    "# extracting subarray\n",
    "print(\"subarray is :\\n\",arr1[1:,0:2])\n",
    "print(\"subarray is :\\n\",arr1[0:2,2:])\n",
    "print(\"subarray is :\\n\",arr1[1:,1:3])"
   ]
  },
  {
   "cell_type": "code",
   "execution_count": 74,
   "metadata": {},
   "outputs": [
    {
     "name": "stdout",
     "output_type": "stream",
     "text": [
      "5.5\n",
      "5.5\n",
      "2.8722813232690143\n",
      "8.25\n"
     ]
    }
   ],
   "source": [
    "# Statistical operations using numpy\n",
    "\n",
    "data = np.array([1,2,3,4,5,6,7,8,9,10])\n",
    "\n",
    "\"\"\" Mean - average value of an array \n",
    "               Mean= ∑X/N         \"\"\"\n",
    "mean = np.mean(data)\n",
    "print(mean)\n",
    "\n",
    "# Median - middle value in a sorted array. if number of elements is even, median is avg of the 2 mid element\n",
    "median = np.median(data)\n",
    "print(median)\n",
    "\n",
    "\"\"\"Standard Deviation - measures the amount of variation in the dataset \n",
    "            std_dev = sqrt(∑((Xi - 𝜇)**2)/N)                    \"\"\"\n",
    "std_dev = np.std(data)\n",
    "print(std_dev)\n",
    "\n",
    "# Variance - Variance measures the spread of numbers in a dataset. It is the square of the standard deviation.\n",
    "variance = np.var(data)\n",
    "print(variance)"
   ]
  },
  {
   "cell_type": "code",
   "execution_count": 87,
   "metadata": {},
   "outputs": [
    {
     "name": "stdout",
     "output_type": "stream",
     "text": [
      "[6 7]\n"
     ]
    }
   ],
   "source": [
    "# Logical Operations\n",
    "data = np.array([1,2,3,4,5,6,7,8,9,10,11])\n",
    "\n",
    "print(data[(data>5) & (data<=7)])"
   ]
  },
  {
   "cell_type": "code",
   "execution_count": null,
   "metadata": {},
   "outputs": [],
   "source": []
  }
 ],
 "metadata": {
  "kernelspec": {
   "display_name": ".venv",
   "language": "python",
   "name": "python3"
  },
  "language_info": {
   "codemirror_mode": {
    "name": "ipython",
    "version": 3
   },
   "file_extension": ".py",
   "mimetype": "text/x-python",
   "name": "python",
   "nbconvert_exporter": "python",
   "pygments_lexer": "ipython3",
   "version": "3.13.1"
  }
 },
 "nbformat": 4,
 "nbformat_minor": 2
}
