{
 "cells": [
  {
   "cell_type": "code",
   "execution_count": null,
   "metadata": {},
   "outputs": [
    {
     "name": "stdout",
     "output_type": "stream",
     "text": [
      "     Feature1  Feature2  Label\n",
      "980  0.118808  0.485735    1.0\n",
      "981  0.937014  0.852721    1.0\n",
      "982  0.920324  0.597805    1.0\n",
      "983  0.989836  0.599263    1.0\n",
      "984  0.730611  0.384788    1.0\n",
      "985  0.287178  0.720975    1.0\n",
      "986  0.276825  0.917629    1.0\n",
      "987  0.162692  0.754780    1.0\n",
      "988  0.882058  0.723856    1.0\n",
      "989  0.835504  0.691597    1.0\n",
      "990  0.999030  0.874998    1.0\n",
      "991  0.556622  0.501160    1.0\n",
      "992  0.116098  0.623997    1.0\n",
      "993  0.405536  0.780011    1.0\n",
      "994  0.806354  0.690947    1.0\n",
      "995  0.962917  0.173885    1.0\n",
      "996  0.586905  0.274054    1.0\n",
      "997  0.637331  0.819106    1.0\n",
      "998  0.645192  0.789742    1.0\n",
      "999  0.710281  0.001090    1.0\n",
      "(100, 2)\n"
     ]
    },
    {
     "ename": "AttributeError",
     "evalue": "'numpy.ndarray' object has no attribute 'head'",
     "output_type": "error",
     "traceback": [
      "\u001b[1;31m---------------------------------------------------------------------------\u001b[0m",
      "\u001b[1;31mAttributeError\u001b[0m                            Traceback (most recent call last)",
      "Cell \u001b[1;32mIn[7], line 31\u001b[0m\n\u001b[0;32m     29\u001b[0m \u001b[38;5;28mprint\u001b[39m(df\u001b[38;5;241m.\u001b[39mtail(\u001b[38;5;241m20\u001b[39m))\n\u001b[0;32m     30\u001b[0m \u001b[38;5;28mprint\u001b[39m(X_class_1\u001b[38;5;241m.\u001b[39mshape)\n\u001b[1;32m---> 31\u001b[0m \u001b[38;5;28mprint\u001b[39m(\u001b[43mX\u001b[49m\u001b[38;5;241;43m.\u001b[39;49m\u001b[43mhead\u001b[49m())\n",
      "\u001b[1;31mAttributeError\u001b[0m: 'numpy.ndarray' object has no attribute 'head'"
     ]
    }
   ],
   "source": [
    "import numpy as np\n",
    "import pandas as pd\n",
    "\n",
    "# Total number of samples\n",
    "n_samples = 1000\n",
    "\n",
    "# Class 0 has 90% of the data\n",
    "class_0_ratio = 0.9\n",
    "n_class_0 = int(n_samples * class_0_ratio)  # 900 samples\n",
    "n_class_1 = n_samples - n_class_0           # 100 samples\n",
    "\n",
    "# Generate random feature data\n",
    "X_class_0 = np.random.rand(n_class_0, 2)  # Two features for Class 0\n",
    "X_class_1 = np.random.rand(n_class_1, 2)  # Two features for Class 1\n",
    "\n",
    "# Create labels\n",
    "y_class_0 = np.zeros(n_class_0)  # Label 0\n",
    "y_class_1 = np.ones(n_class_1)   # Label 1\n",
    "\n",
    "# Combine data\n",
    "X = np.vstack((X_class_0, X_class_1))  # Stack feature arrays\n",
    "y = np.hstack((y_class_0, y_class_1))  # Stack label arrays\n",
    "\n",
    "# Convert to Pandas DataFrame\n",
    "df = pd.DataFrame(X, columns=['Feature1', 'Feature2'])\n",
    "df['Label'] = y\n",
    "\n",
    "# Display first few rows\n",
    "print(df.tail(20))\n",
    "print(X_class_1.shape)\n"
   ]
  }
 ],
 "metadata": {
  "kernelspec": {
   "display_name": ".venv",
   "language": "python",
   "name": "python3"
  },
  "language_info": {
   "codemirror_mode": {
    "name": "ipython",
    "version": 3
   },
   "file_extension": ".py",
   "mimetype": "text/x-python",
   "name": "python",
   "nbconvert_exporter": "python",
   "pygments_lexer": "ipython3",
   "version": "3.13.1"
  }
 },
 "nbformat": 4,
 "nbformat_minor": 2
}
