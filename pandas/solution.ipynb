{
 "cells": [
  {
   "cell_type": "code",
   "execution_count": 2,
   "metadata": {},
   "outputs": [],
   "source": [
    "import pandas as pd\n",
    "import seaborn as sns\n",
    "import matplotlib.pyplot as plt\n",
    "import numpy as np"
   ]
  },
  {
   "cell_type": "code",
   "execution_count": null,
   "metadata": {},
   "outputs": [],
   "source": [
    "# Assignment 1\n",
    "\n",
    "\n",
    "# Creating a dictionary using comprehension\n",
    "data = {f'Col{i}': np.random.randint(1, 100, 6) for i in range(4)}\n",
    "\n",
    "print(data)\n",
    "# Creating the DataFrame\n",
    "df = pd.DataFrame(data)\n",
    "# Setting the first column as the index\n",
    "df.set_index(df.columns[0], inplace=True)\n",
    "print(df)\n"
   ]
  },
  {
   "cell_type": "code",
   "execution_count": null,
   "metadata": {},
   "outputs": [],
   "source": [
    "# creating random data\n",
    "data = {\n",
    "    'A':np.random.randint(1,100,3),\n",
    "    'B':np.random.randint(1,100,3),\n",
    "    'C':np.random.randint(1,100,3)\n",
    "}\n",
    "\n",
    "\"\"\"\n",
    "np.random.seed(42)  # For reproducibility\n",
    "df = pd.DataFrame(np.random.randint(1, 100, size=(3, 3)), \n",
    "                  columns=['A', 'B', 'C'], \n",
    "                  index=['X', 'Y', 'Z'])\"\"\"\n",
    "\n",
    "# creating dataframe from dictionary\n",
    "index = ['X','Y','Z']\n",
    "df = pd.DataFrame(data, index=index)\n",
    "print(df)\n",
    "\n",
    "print(\"Value at row Y and column B is :\",df.loc['Y','B'])       # label- based selection"
   ]
  },
  {
   "cell_type": "code",
   "execution_count": null,
   "metadata": {},
   "outputs": [],
   "source": [
    "# Assignment 2\n",
    "\n",
    "np.random.seed(42)\n",
    "df = pd.DataFrame(np.random.randint(1, 100, size=(3, 5)))\n",
    "\n",
    "df.columns=['A','B','C','D','E']\n",
    "\n",
    "#df['Sum'] = df.iloc[:,0] + df.iloc[:,1]\n",
    "\n",
    "#df['Sum'] = df['A'] + df['B']\n",
    "\n",
    "df['Sum'] = df[['A','B']].sum(axis=1)\n",
    "print(df)"
   ]
  },
  {
   "cell_type": "code",
   "execution_count": 131,
   "metadata": {},
   "outputs": [
    {
     "name": "stdout",
     "output_type": "stream",
     "text": [
      "A    188\n",
      "B    189\n",
      "C    186\n",
      "D    183\n",
      "Name: column sum, dtype: int64\n",
      "    A   B   C   D  Row_Sum\n",
      "0  52  93  15  72      232\n",
      "1  61  21  83  87      252\n",
      "2  75  75  88  24      262\n"
     ]
    }
   ],
   "source": [
    "np.random.seed(42)\n",
    "df = pd.DataFrame(np.random.randint(1, 100, size=(3, 4)), columns=['A','B','C','D'])\n",
    "# column wise sumation\n",
    "\n",
    "Col_sum = {}\n",
    "for i in df.columns:\n",
    "    #print(f\"Sum of column {i} is:\",df[i].sum())\n",
    "    Col_sum[i] = sum(df[i])\n",
    "print(pd.Series(Col_sum,name=\"column sum\"))\n",
    "\n",
    "# row wise sumation\n",
    "df['Row_Sum'] = df.sum(axis=1)\n",
    "print(df)"
   ]
  },
  {
   "cell_type": "code",
   "execution_count": 20,
   "metadata": {},
   "outputs": [
    {
     "name": "stdout",
     "output_type": "stream",
     "text": [
      "      A     B   C\n",
      "0   NaN   NaN  15\n",
      "1  45.0  65.0  89\n",
      "2  71.0   9.0  88\n",
      "3   1.0   NaN  88\n"
     ]
    }
   ],
   "source": [
    "# Assignment 3\n",
    "\n",
    "#np.random.seed(42)\n",
    "df = pd.DataFrame(np.random.randint(1, 100, size=(4, 3)), columns=list('ABC'))\n",
    "nan_matrix = np.random.choice([True,False], size=df.shape, p=[0.2,0.8])      # creating a same size matrix as df to introduce nan in df\n",
    "df[nan_matrix] = np.nan             # if true convert to nan, if false remains same\n",
    "print(df)"
   ]
  },
  {
   "cell_type": "code",
   "execution_count": 21,
   "metadata": {},
   "outputs": [
    {
     "name": "stdout",
     "output_type": "stream",
     "text": [
      "A    1\n",
      "B    2\n",
      "C    0\n",
      "dtype: int64\n"
     ]
    }
   ],
   "source": [
    "print(df.isnull().sum())"
   ]
  },
  {
   "cell_type": "code",
   "execution_count": 22,
   "metadata": {},
   "outputs": [
    {
     "data": {
      "text/html": [
       "<div>\n",
       "<style scoped>\n",
       "    .dataframe tbody tr th:only-of-type {\n",
       "        vertical-align: middle;\n",
       "    }\n",
       "\n",
       "    .dataframe tbody tr th {\n",
       "        vertical-align: top;\n",
       "    }\n",
       "\n",
       "    .dataframe thead th {\n",
       "        text-align: right;\n",
       "    }\n",
       "</style>\n",
       "<table border=\"1\" class=\"dataframe\">\n",
       "  <thead>\n",
       "    <tr style=\"text-align: right;\">\n",
       "      <th></th>\n",
       "      <th>A</th>\n",
       "      <th>B</th>\n",
       "      <th>C</th>\n",
       "    </tr>\n",
       "  </thead>\n",
       "  <tbody>\n",
       "    <tr>\n",
       "      <th>1</th>\n",
       "      <td>45.0</td>\n",
       "      <td>65.0</td>\n",
       "      <td>89</td>\n",
       "    </tr>\n",
       "    <tr>\n",
       "      <th>2</th>\n",
       "      <td>71.0</td>\n",
       "      <td>9.0</td>\n",
       "      <td>88</td>\n",
       "    </tr>\n",
       "  </tbody>\n",
       "</table>\n",
       "</div>"
      ],
      "text/plain": [
       "      A     B   C\n",
       "1  45.0  65.0  89\n",
       "2  71.0   9.0  88"
      ]
     },
     "execution_count": 22,
     "metadata": {},
     "output_type": "execute_result"
    }
   ],
   "source": [
    "df.dropna(inplace=True)\n",
    "df"
   ]
  },
  {
   "cell_type": "code",
   "execution_count": 46,
   "metadata": {},
   "outputs": [
    {
     "name": "stdout",
     "output_type": "stream",
     "text": [
      "   Id Category  Value\n",
      "0   1        C     83\n",
      "1   2        A     87\n",
      "2   3        C     75\n",
      "3   4        C     75\n",
      "4   5        A     88\n",
      "5   6        A     24\n",
      "6   7        C      3\n",
      "7   8        B     22\n",
      "          sum       mean\n",
      "Category                \n",
      "A         199  66.333333\n",
      "B          22  22.000000\n",
      "C         236  59.000000\n"
     ]
    }
   ],
   "source": [
    "# Assignment 4\n",
    "np.random.seed(42)\n",
    "df = pd.DataFrame(columns=[\"Id\",\"Category\",\"Value\"])\n",
    "df['Id'] = [1,2,3,4,5,6,7,8]\n",
    "df['Category'] = np.random.choice(['A','B','C'], size=len(df))\n",
    "df['Value'] = np.random.randint(1,100, size=len(df))       \n",
    "print(df)\n",
    "aggregated_data = df.groupby(\"Category\")['Value'].agg(['sum','mean'])\n",
    "print(aggregated_data)\n"
   ]
  },
  {
   "cell_type": "code",
   "execution_count": 78,
   "metadata": {},
   "outputs": [
    {
     "name": "stdout",
     "output_type": "stream",
     "text": [
      "       Product     Category  Total_Sales\n",
      "0         Milk      Grocery           24\n",
      "1        Chair    Furniture            3\n",
      "2       Laptop  Electronics           22\n",
      "3        Bread      Grocery           53\n",
      "4         Eggs      Grocery            2\n",
      "5         Desk    Furniture           88\n",
      "6        Phone  Electronics           30\n",
      "7   Headphones  Electronics           38\n",
      "8         Eggs      Grocery            2\n",
      "9        Pants     Clothing           64\n",
      "10        Milk      Grocery           60\n",
      "11        Eggs      Grocery           21\n",
      "12        Milk      Grocery           33\n",
      "13        Eggs      Grocery           76\n",
      "14        Desk    Furniture           58\n",
      "\n",
      " Category\n",
      "Clothing        64\n",
      "Electronics     90\n",
      "Furniture      149\n",
      "Grocery        271\n",
      "Name: Total_Sales, dtype: int32\n",
      "Total furniture sales are: 149\n",
      "Chair sales is: 3\n"
     ]
    },
    {
     "data": {
      "image/png": "[encoded data removed]",
      "text/plain": [
       "<Figure size 640x480 with 1 Axes>"
      ]
     },
     "metadata": {},
     "output_type": "display_data"
    }
   ],
   "source": [
    "np.random.seed(42)\n",
    "df = pd.DataFrame(index=range(15), columns=[\"Product\",\"Category\",\"Sales\"])\n",
    "df['Category'] = np.random.choice(['Electronics','Clothing','Grocery','Furniture'], size=len(df))\n",
    "df['Sales'] = np.random.randint(1,100, size=len(df))\n",
    "\n",
    "# Dictionary that maps categories to a list of products - tells which products belong to which category.\n",
    "product_mapping = {\n",
    "    'Electronics' : ['Laptop','Headphones','Phone'],\n",
    "    'Clothing' : ['Shirt','Pants','Dress'],\n",
    "    'Grocery' : ['Bread','Milk','Eggs'],\n",
    "    'Furniture' : ['Chair','Table','Desk']\n",
    "}\n",
    "\n",
    "df = df.rename(columns={'Sales':'Total_Sales'})\n",
    "\n",
    "# Apply function: For each row, pick a random product from (product_mapping) the matching category\n",
    "df['Product'] = df['Category'].map(lambda cat: np.random.choice(product_mapping[cat]))\n",
    "print(df)\n",
    "\n",
    "total_sales = df.groupby('Category')['Total_Sales'].sum()\n",
    "print(\"\\n\",total_sales)\n",
    "\n",
    "total_furniture_sale = df.loc[df['Category']=='Furniture','Total_Sales'].sum()       # for calculating the sales for a specific category\n",
    "print(f\"Total furniture sales are: {total_furniture_sale}\")\n",
    "\n",
    "chair_sales = df.loc[(df['Category']=='Furniture') & (df['Product']=='Chair'),'Total_Sales'].sum()\n",
    "print(f\"Chair sales is: {chair_sales}\")\n",
    "\n",
    "sns.barplot(x='Category', y='Total_Sales', estimator=sum, color='crimson', data=df)\n",
    "plt.show()"
   ]
  },
  {
   "cell_type": "code",
   "execution_count": null,
   "metadata": {},
   "outputs": [
    {
     "name": "stdout",
     "output_type": "stream",
     "text": [
      "dataframe 1: \n",
      "   Key  Value\n",
      "0   A      1\n",
      "1   B      2\n",
      "2   C      3\n",
      "dataframe 2: \n",
      "   Key  Value\n",
      "0   A      4\n",
      "1   B      5\n",
      "2   D      6\n"
     ]
    }
   ],
   "source": [
    "# Assignment 5\n",
    "# merge with same columns\n",
    "df1 = pd.DataFrame({'Key':['A','B','C'], 'Value': [1,2,3]})\n",
    "df2 = pd.DataFrame({'Key':['A','B','D'], 'Value': [4,5,6]})\n",
    "print(\"dataframe 1: \\n\",df1)\n",
    "print(\"dataframe 2: \\n\",df2)"
   ]
  },
  {
   "cell_type": "code",
   "execution_count": 74,
   "metadata": {},
   "outputs": [
    {
     "name": "stdout",
     "output_type": "stream",
     "text": [
      "  Key  Value_x  Value_y\n",
      "0   A      1.0      4.0\n",
      "1   B      2.0      5.0\n",
      "2   C      3.0      NaN\n",
      "3   D      NaN      6.0\n"
     ]
    }
   ],
   "source": [
    "merged_df = pd.merge(df1,df2, on='Key', how='outer')\n",
    "print(merged_df)"
   ]
  },
  {
   "cell_type": "code",
   "execution_count": 81,
   "metadata": {},
   "outputs": [
    {
     "name": "stdout",
     "output_type": "stream",
     "text": [
      "dataframe 1: \n",
      "    A  B\n",
      "0  1  4\n",
      "1  2  5\n",
      "2  3  6\n",
      "dataframe 2: \n",
      "    C   D\n",
      "0  7  10\n",
      "1  8  11\n"
     ]
    }
   ],
   "source": [
    "# merge with different columns\n",
    "df1 = pd.DataFrame({'A': [1, 2, 3], 'B': [4,5,6]})\n",
    "df2 = pd.DataFrame({'C': [7, 8], 'D': [10,11]})\n",
    "print(\"dataframe 1: \\n\",df1)\n",
    "print(\"dataframe 2: \\n\",df2)"
   ]
  },
  {
   "cell_type": "code",
   "execution_count": 86,
   "metadata": {},
   "outputs": [
    {
     "name": "stdout",
     "output_type": "stream",
     "text": [
      "     A    B    C     D\n",
      "0  1.0  4.0  NaN   NaN\n",
      "1  2.0  5.0  NaN   NaN\n",
      "2  3.0  6.0  NaN   NaN\n",
      "0  NaN  NaN  7.0  10.0\n",
      "1  NaN  NaN  8.0  11.0\n",
      "\n",
      "    A  B    C     D\n",
      "0  1  4  7.0  10.0\n",
      "1  2  5  8.0  11.0\n",
      "2  3  6  NaN   NaN\n"
     ]
    }
   ],
   "source": [
    "# along rows\n",
    "merged_df = pd.concat([df1,df2], axis=0)\n",
    "print(merged_df)\n",
    "\n",
    "# along columns\n",
    "merged_df = pd.concat([df1,df2], axis=1)\n",
    "print(\"\\n\",merged_df)"
   ]
  },
  {
   "cell_type": "code",
   "execution_count": null,
   "metadata": {},
   "outputs": [],
   "source": [
    "# Assignment 6\n",
    "\n",
    "date_range = pd.date_range(start=\"01-01-2025\",periods=31, freq='D')\n",
    "df = pd.DataFrame({'Date': date_range,'Data': np.random.randint(0,100, len(date_range))})\n",
    "print(df)"
   ]
  },
  {
   "cell_type": "code",
   "execution_count": 101,
   "metadata": {},
   "outputs": [],
   "source": [
    "df.set_index('Date',inplace=True)"
   ]
  },
  {
   "cell_type": "code",
   "execution_count": 103,
   "metadata": {},
   "outputs": [
    {
     "name": "stdout",
     "output_type": "stream",
     "text": [
      "                 Data\n",
      "Date                 \n",
      "2025-01-31  44.709677\n"
     ]
    }
   ],
   "source": [
    "monthly_mean = df.resample('ME').mean()\n",
    "print(monthly_mean)"
   ]
  },
  {
   "cell_type": "code",
   "execution_count": 113,
   "metadata": {},
   "outputs": [
    {
     "data": {
      "text/html": [
       "<div>\n",
       "<style scoped>\n",
       "    .dataframe tbody tr th:only-of-type {\n",
       "        vertical-align: middle;\n",
       "    }\n",
       "\n",
       "    .dataframe tbody tr th {\n",
       "        vertical-align: top;\n",
       "    }\n",
       "\n",
       "    .dataframe thead th {\n",
       "        text-align: right;\n",
       "    }\n",
       "</style>\n",
       "<table border=\"1\" class=\"dataframe\">\n",
       "  <thead>\n",
       "    <tr style=\"text-align: right;\">\n",
       "      <th></th>\n",
       "      <th>Data</th>\n",
       "      <th>monthly_rolling</th>\n",
       "    </tr>\n",
       "  </thead>\n",
       "  <tbody>\n",
       "    <tr>\n",
       "      <th>2021-01-01</th>\n",
       "      <td>29</td>\n",
       "      <td>NaN</td>\n",
       "    </tr>\n",
       "    <tr>\n",
       "      <th>2021-01-02</th>\n",
       "      <td>24</td>\n",
       "      <td>NaN</td>\n",
       "    </tr>\n",
       "    <tr>\n",
       "      <th>2021-01-03</th>\n",
       "      <td>83</td>\n",
       "      <td>NaN</td>\n",
       "    </tr>\n",
       "    <tr>\n",
       "      <th>2021-01-04</th>\n",
       "      <td>4</td>\n",
       "      <td>NaN</td>\n",
       "    </tr>\n",
       "    <tr>\n",
       "      <th>2021-01-05</th>\n",
       "      <td>64</td>\n",
       "      <td>NaN</td>\n",
       "    </tr>\n",
       "    <tr>\n",
       "      <th>2021-01-06</th>\n",
       "      <td>93</td>\n",
       "      <td>NaN</td>\n",
       "    </tr>\n",
       "    <tr>\n",
       "      <th>2021-01-07</th>\n",
       "      <td>48</td>\n",
       "      <td>49.285714</td>\n",
       "    </tr>\n",
       "    <tr>\n",
       "      <th>2021-01-08</th>\n",
       "      <td>2</td>\n",
       "      <td>45.428571</td>\n",
       "    </tr>\n",
       "    <tr>\n",
       "      <th>2021-01-09</th>\n",
       "      <td>44</td>\n",
       "      <td>48.285714</td>\n",
       "    </tr>\n",
       "    <tr>\n",
       "      <th>2021-01-10</th>\n",
       "      <td>13</td>\n",
       "      <td>38.285714</td>\n",
       "    </tr>\n",
       "  </tbody>\n",
       "</table>\n",
       "</div>"
      ],
      "text/plain": [
       "            Data  monthly_rolling\n",
       "2021-01-01    29              NaN\n",
       "2021-01-02    24              NaN\n",
       "2021-01-03    83              NaN\n",
       "2021-01-04     4              NaN\n",
       "2021-01-05    64              NaN\n",
       "2021-01-06    93              NaN\n",
       "2021-01-07    48        49.285714\n",
       "2021-01-08     2        45.428571\n",
       "2021-01-09    44        48.285714\n",
       "2021-01-10    13        38.285714"
      ]
     },
     "execution_count": 113,
     "metadata": {},
     "output_type": "execute_result"
    }
   ],
   "source": [
    "date_range = pd.date_range(start='2021-01-01', end='2021-12-31', freq='D')\n",
    "df = pd.DataFrame(np.random.randint(0,100, len(date_range)), columns=['Data'], index=date_range)\n",
    "\n",
    "df[\"monthly_rolling\"] = df[\"Data\"].rolling(window=7).mean()\n",
    "df.head(10)"
   ]
  },
  {
   "cell_type": "code",
   "execution_count": 126,
   "metadata": {},
   "outputs": [
    {
     "name": "stdout",
     "output_type": "stream",
     "text": [
      "dataframe before doubling the value\n",
      "    A   B   C   D   E\n",
      "0  51  92  14  71  60\n",
      "1  20  82  86  74  74\n",
      "2  87  99  23   2  21\n",
      "dataframe after doubling the value\n",
      "     A    B    C    D    E\n",
      "0  102  184   28  142  120\n",
      "1   40  164  172  148  148\n",
      "2  174  198   46    4   42\n"
     ]
    }
   ],
   "source": [
    "# Assignment 9 \n",
    "np.random.seed(42)\n",
    "df = pd.DataFrame(np.random.randint(0,100, size=(3,5)), columns=['A','B','C','D','E'])\n",
    "print(\"dataframe before doubling the value\")\n",
    "print(df.head(5))\n",
    "print(\"dataframe after doubling the value\")\n",
    "df_doubled = df.map(lambda x : x*2)\n",
    "print(df_doubled.head(5))"
   ]
  },
  {
   "cell_type": "code",
   "execution_count": 3,
   "metadata": {},
   "outputs": [
    {
     "name": "stdout",
     "output_type": "stream",
     "text": [
      "Original DataFrame:\n",
      "    A   B   C\n",
      "0  52  93  15\n",
      "1  72  61  21\n",
      "2  83  87  75\n",
      "3  75  88  24\n",
      "4   3  22  53\n",
      "5   2  88  30\n",
      "DataFrame with Sum column:\n",
      "    A   B   C  Sum\n",
      "0  52  93  15  160\n",
      "1  72  61  21  154\n",
      "2  83  87  75  245\n",
      "3  75  88  24  187\n",
      "4   3  22  53   78\n",
      "5   2  88  30  120\n"
     ]
    }
   ],
   "source": [
    "np.random.seed(42)\n",
    "df = pd.DataFrame(np.random.randint(1, 100, size=(6, 3)), columns=['A', 'B', 'C'])\n",
    "print(\"Original DataFrame:\")\n",
    "print(df)\n",
    "\n",
    "# Apply a lambda function to create a new column that is the sum of the existing columns\n",
    "df['Sum'] = df.apply(lambda row: row.sum(), axis=1)\n",
    "print(\"DataFrame with Sum column:\")\n",
    "print(df)"
   ]
  },
  {
   "cell_type": "code",
   "execution_count": 7,
   "metadata": {},
   "outputs": [
    {
     "name": "stdout",
     "output_type": "stream",
     "text": [
      "Original series:\n",
      "0      goku\n",
      "1    vegeta\n",
      "2     broly\n",
      "3     gohan\n",
      "4    trunks\n",
      "dtype: object\n",
      "Uppercase data:\n",
      "0      GOKU\n",
      "1    VEGETA\n",
      "2     BROLY\n",
      "3     GOHAN\n",
      "4    TRUNKS\n",
      "dtype: object\n"
     ]
    }
   ],
   "source": [
    "# Assignment 10\n",
    "\n",
    "text_data = pd.Series(['goku','vegeta','broly','gohan','trunks'])\n",
    "print(\"Original series:\")\n",
    "print(text_data)\n",
    "text_data = text_data.str.upper()\n",
    "print(\"Uppercase data:\")\n",
    "print(text_data)"
   ]
  },
  {
   "cell_type": "code",
   "execution_count": 9,
   "metadata": {},
   "outputs": [
    {
     "name": "stdout",
     "output_type": "stream",
     "text": [
      "Original data:\n",
      "0         gojo\n",
      "1         geto\n",
      "2      itadori\n",
      "3    fushiguro\n",
      "4       sakuna\n",
      "dtype: object\n",
      "First three characters data:\n",
      "0    goj\n",
      "1    get\n",
      "2    ita\n",
      "3    fus\n",
      "4    sak\n",
      "dtype: object\n"
     ]
    }
   ],
   "source": [
    "text_data = pd.Series(['gojo','geto','itadori','fushiguro','sakuna'])\n",
    "print(\"Original data:\")\n",
    "print(text_data)\n",
    "first_three_char = text_data.str[:3]\n",
    "print(\"First three characters data:\")\n",
    "print(first_three_char)"
   ]
  },
  {
   "cell_type": "code",
   "execution_count": null,
   "metadata": {},
   "outputs": [],
   "source": [
    "# Assignment 8\n",
    "np.random.seed(42)\n",
    "date_range = pd.date_range(start='2025-01-01', end='2025-01-10', freq='D')\n",
    "print(date_range)\n",
    "df = pd.DataFrame({'Date': np.random.choice(date_range, size=20), 'Category': np.random.choice(['A','B','C'], size=20),\n",
    "                   'Value': np.random.randint(1,100, size=20)})\n",
    "print(\"Original data\")\n",
    "print(df)\n",
    "pivot_table = pd.pivot_table(df, index='Date', columns='Category', aggfunc=\"sum\")\n",
    "print(\"Pivot table:\")\n",
    "print(pivot_table)"
   ]
  },
  {
   "cell_type": "code",
   "execution_count": 37,
   "metadata": {},
   "outputs": [
    {
     "name": "stdout",
     "output_type": "stream",
     "text": [
      "Original DataFrame:\n",
      "    Year Quarter  Revenue\n",
      "0   2022      Q3      456\n",
      "1   2022      Q2      462\n",
      "2   2021      Q2      727\n",
      "3   2020      Q4      252\n",
      "4   2021      Q2      702\n",
      "5   2021      Q2      296\n",
      "6   2021      Q2      725\n",
      "7   2021      Q4      720\n",
      "8   2021      Q2      749\n",
      "9   2021      Q3      338\n",
      "10  2021      Q4      879\n",
      "11  2020      Q3       53\n",
      "Pivot Table:\n",
      "Quarter     Q2     Q3     Q4\n",
      "Year                        \n",
      "2020       NaN   53.0  252.0\n",
      "2021     639.8  338.0  799.5\n",
      "2022     462.0  456.0    NaN\n"
     ]
    }
   ],
   "source": [
    "df = pd.DataFrame({'Year': np.random.choice([2020, 2021, 2022], size=12), 'Quarter': np.random.choice(['Q1', 'Q2', 'Q3', 'Q4'], size=12), 'Revenue': np.random.randint(1, 1000, size=12)})\n",
    "print(\"Original DataFrame:\")\n",
    "print(df)\n",
    "\n",
    "# Create a pivot table to compute the mean 'Revenue' for each 'Quarter' by 'Year'\n",
    "pivot_table = df.pivot_table(values='Revenue', index='Year', columns='Quarter', aggfunc='mean')\n",
    "print(\"Pivot Table:\")\n",
    "print(pivot_table)"
   ]
  }
 ],
 "metadata": {
  "kernelspec": {
   "display_name": ".venv",
   "language": "python",
   "name": "python3"
  },
  "language_info": {
   "codemirror_mode": {
    "name": "ipython",
    "version": 3
   },
   "file_extension": ".py",
   "mimetype": "text/x-python",
   "name": "python",
   "nbconvert_exporter": "python",
   "pygments_lexer": "ipython3",
   "version": "3.13.1"
  }
 },
 "nbformat": 4,
 "nbformat_minor": 2
}
